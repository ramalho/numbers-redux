{
 "cells": [
  {
   "cell_type": "markdown",
   "metadata": {},
   "source": [
    "# Number types interface comparison"
   ]
  },
  {
   "cell_type": "code",
   "execution_count": 1,
   "metadata": {},
   "outputs": [],
   "source": [
    "import numbers\n",
    "import decimal"
   ]
  },
  {
   "cell_type": "code",
   "execution_count": 2,
   "metadata": {},
   "outputs": [],
   "source": [
    "obj = set(dir(object))\n",
    "complex_abc = set(dir(numbers.Complex)) - obj\n",
    "real_abc = set(dir(numbers.Real)) - obj\n",
    "dec = set(dir(decimal.Decimal)) - obj\n",
    "flt = set(dir(float)) - obj"
   ]
  },
  {
   "cell_type": "code",
   "execution_count": 3,
   "metadata": {},
   "outputs": [],
   "source": [
    "real_and_dec = real_abc & dec"
   ]
  },
  {
   "cell_type": "code",
   "execution_count": 4,
   "metadata": {},
   "outputs": [
    {
     "name": "stdout",
     "output_type": "stream",
     "text": [
      "__abs__\n",
      "__add__\n",
      "__bool__\n",
      "__ceil__\n",
      "__complex__\n",
      "__divmod__\n",
      "__float__\n",
      "__floor__\n",
      "__floordiv__\n",
      "__mod__\n",
      "__module__\n",
      "__mul__\n",
      "__neg__\n",
      "__pos__\n",
      "__pow__\n",
      "__radd__\n",
      "__rdivmod__\n",
      "__rfloordiv__\n",
      "__rmod__\n",
      "__rmul__\n",
      "__round__\n",
      "__rpow__\n",
      "__rsub__\n",
      "__rtruediv__\n",
      "__sub__\n",
      "__truediv__\n",
      "__trunc__\n",
      "conjugate\n",
      "imag\n",
      "real\n"
     ]
    }
   ],
   "source": [
    "for name in sorted(real_and_dec): print(name)"
   ]
  },
  {
   "cell_type": "code",
   "execution_count": 5,
   "metadata": {},
   "outputs": [
    {
     "name": "stdout",
     "output_type": "stream",
     "text": [
      "__abs__\n",
      "__add__\n",
      "__bool__\n",
      "__complex__\n",
      "__module__\n",
      "__mul__\n",
      "__neg__\n",
      "__pos__\n",
      "__pow__\n",
      "__radd__\n",
      "__rmul__\n",
      "__rpow__\n",
      "__rsub__\n",
      "__rtruediv__\n",
      "__sub__\n",
      "__truediv__\n",
      "conjugate\n",
      "imag\n",
      "real\n"
     ]
    }
   ],
   "source": [
    "common = real_and_dec & complex_abc\n",
    "for name in sorted(common): print(name)"
   ]
  }
 ],
 "metadata": {
  "kernelspec": {
   "display_name": "Python 3",
   "language": "python",
   "name": "python3"
  },
  "language_info": {
   "codemirror_mode": {
    "name": "ipython",
    "version": 3
   },
   "file_extension": ".py",
   "mimetype": "text/x-python",
   "name": "python",
   "nbconvert_exporter": "python",
   "pygments_lexer": "ipython3",
   "version": "3.9.0rc1"
  }
 },
 "nbformat": 4,
 "nbformat_minor": 4
}
